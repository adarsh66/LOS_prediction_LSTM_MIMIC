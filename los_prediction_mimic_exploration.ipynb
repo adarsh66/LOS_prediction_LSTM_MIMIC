{
 "cells": [
  {
   "cell_type": "markdown",
   "metadata": {},
   "source": [
    "# LOS prediction on MIMIC ICU patients.\n",
    "exploration doc"
   ]
  },
  {
   "cell_type": "code",
   "execution_count": 2,
   "metadata": {
    "collapsed": true
   },
   "outputs": [],
   "source": [
    "import pandas as pd\n",
    "import numpy as np\n",
    "import matplotlib.pyplot as plt\n",
    "import seaborn as sns\n",
    "%matplotlib inline"
   ]
  },
  {
   "cell_type": "code",
   "execution_count": 3,
   "metadata": {
    "collapsed": true
   },
   "outputs": [],
   "source": [
    "df_los = pd.read_csv('./data/icustays_los.csv')"
   ]
  },
  {
   "cell_type": "code",
   "execution_count": 4,
   "metadata": {
    "collapsed": false
   },
   "outputs": [],
   "source": [
    "MAX_CUT_OFF = 10\n",
    "MIN_CUT_OFF = 0.5\n",
    "df_los = df_los[df_los.los.notnull()]\n",
    "df_los = df_los[df_los.los>MIN_CUT_OFF]\n",
    "df_los = df_los[df_los.los<MAX_CUT_OFF]"
   ]
  },
  {
   "cell_type": "code",
   "execution_count": 90,
   "metadata": {
    "collapsed": false
   },
   "outputs": [
    {
     "name": "stdout",
     "output_type": "stream",
     "text": [
      "count    49948.000000\n",
      "mean         2.745227\n",
      "std          2.069091\n",
      "min          0.501000\n",
      "25%          1.185975\n",
      "50%          2.031450\n",
      "75%          3.558725\n",
      "max          9.999600\n",
      "Name: los, dtype: float64\n"
     ]
    },
    {
     "data": {
      "image/png": "[encoded data removed]",
      "text/plain": [
       "<matplotlib.figure.Figure at 0x121ce13c8>"
      ]
     },
     "metadata": {},
     "output_type": "display_data"
    }
   ],
   "source": [
    "print(df_los.los.describe())\n",
    "sns.distplot(df_los.los,  kde=False)\n",
    "plt.savefig('./img/los_histogram.jpg')"
   ]
  },
  {
   "cell_type": "code",
   "execution_count": 6,
   "metadata": {
    "collapsed": true
   },
   "outputs": [],
   "source": [
    "NUM_CATEGORIES = 10\n",
    "MAX_FEAT_LENGTH = 5\n",
    "MIN_NUM_HOURS ,  MAX_NUM_HOURS = 24, 240 # min 1 day , max 10 days"
   ]
  },
  {
   "cell_type": "code",
   "execution_count": 58,
   "metadata": {
    "collapsed": false
   },
   "outputs": [],
   "source": [
    "df_feats = pd.read_csv('./data/adult_icustays_10kIds_selectedfeats.csv')\n",
    "df_feats = df_feats[df_feats.num_hours>=0]\n",
    "df_feats['num_days'] = (df_feats['num_hours']//24).astype(int)\n",
    "los_per_encounter = df_feats.groupby(['icustay_id'])['num_days'].max()\n",
    "df_feats['num_days_remaining'] = df_feats.apply(lambda row: (los_per_encounter[row['icustay_id']] - row['num_days']), axis=1)\n",
    "targets = df_feats.groupby('icustay_id')['num_hours'].max().reset_index()\n",
    "targets = targets[((targets.num_hours>=MIN_NUM_HOURS) & (targets.num_hours<=MAX_NUM_HOURS)) ]['icustay_id']\n",
    "df_feats = df_feats[df_feats.icustay_id.isin(targets)]\n",
    "#df_feats['num_hours_binned'] = df_feats['num_hours'].apply(lambda x: x// MAX_FEAT_LENGTH)\n",
    "\n",
    "feats = {\n",
    "    \"Heart Rate\": 'HR',\n",
    "    \"Arterial BP [Systolic]\" : 'S_BP',\n",
    "    \"Arterial BP [Diastolic]\" : 'D_BP',\n",
    "    \"Arterial Blood Pressure systolic\" : 'S_BP',\n",
    "    \"Arterial Blood Pressure diastolic\" : 'D_BP',\n",
    "    \"ETCO2\" : 'EtCO2',\n",
    "    \"FIO2\" : 'FiO2',\n",
    "    \"EtCO2\" : 'EtCO2',\n",
    "    \"FiO2\" : 'FiO2',\n",
    "    \"GCS Total\" : 'GCS',\n",
    "    \"Blood Glucose\" : 'Glucose',\n",
    "    \"O2 saturation pulseoxymetry\" : 'SpO2',\n",
    "    \"Temperature F\" : 'Temp',\n",
    "    \"Arterial pH\" : 'pH',\n",
    "    \"SpO2\" : 'SpO2',\n",
    "    \"Art.pH\" : 'pH',\n",
    "    \"Respiratory Rate\" : 'RR',\n",
    "}\n",
    "\n",
    "feat_normalization = {\n",
    "    # Feat: (Min, Max)\n",
    "    'HR': (0,200),\n",
    "    'S_BP' : (0,200),\n",
    "    'D_BP' : (0,200),\n",
    "    'EtCO2' : (0,200),\n",
    "    'FiO2' : (0,100),\n",
    "    'GCS'  : (3,15),\n",
    "    'Glucose' : (0,100),\n",
    "    'SpO2' : (0,100),\n",
    "    'Temp' : (90,110),\n",
    "    'pH' : (0,14),\n",
    "    'RR' : (0,100)\n",
    "}"
   ]
  },
  {
   "cell_type": "code",
   "execution_count": 59,
   "metadata": {
    "collapsed": false
   },
   "outputs": [],
   "source": [
    "def normalize(x, x_min, x_max ):\n",
    "    return (x-x_min)/(x_max-x_min)\n",
    "\n",
    "df_feats = df_feats[df_feats['label'].isin(feats.keys())]\n",
    "df_feats['label'] = df_feats['label'].apply(lambda x: feats[x])\n",
    "df_feats['amt'] = df_feats.apply(lambda row: normalize(row['amount']\n",
    "                                                       , feat_normalization[row['label']][0]\n",
    "                                                      , feat_normalization[row['label']][1]\n",
    "                                                      ), axis=1)"
   ]
  },
  {
   "cell_type": "code",
   "execution_count": 80,
   "metadata": {
    "collapsed": true
   },
   "outputs": [],
   "source": [
    "df_feats['num_hours_binned'] = df_feats['num_hours'].apply(lambda x: x// 12)"
   ]
  },
  {
   "cell_type": "code",
   "execution_count": 81,
   "metadata": {
    "collapsed": false
   },
   "outputs": [],
   "source": [
    "df_pivot = df_feats.groupby(['icustay_id','num_hours_binned','num_days_remaining','first_admit_age','label'])['amt'].mean()\\\n",
    "\t\t\t.reset_index()\\\n",
    "\t\t\t.pivot_table(index=['icustay_id','num_hours_binned','num_days_remaining', 'first_admit_age'],columns = 'label', values='amt')\\\n",
    "\t\t\t.reset_index()"
   ]
  },
  {
   "cell_type": "code",
   "execution_count": 82,
   "metadata": {
    "collapsed": false
   },
   "outputs": [
    {
     "data": {
      "text/html": [
       "<div>\n",
       "<style>\n",
       "    .dataframe thead tr:only-child th {\n",
       "        text-align: right;\n",
       "    }\n",
       "\n",
       "    .dataframe thead th {\n",
       "        text-align: left;\n",
       "    }\n",
       "\n",
       "    .dataframe tbody tr th {\n",
       "        vertical-align: top;\n",
       "    }\n",
       "</style>\n",
       "<table border=\"1\" class=\"dataframe\">\n",
       "  <thead>\n",
       "    <tr style=\"text-align: right;\">\n",
       "      <th>label</th>\n",
       "      <th>icustay_id</th>\n",
       "      <th>num_hours_binned</th>\n",
       "      <th>num_days_remaining</th>\n",
       "      <th>first_admit_age</th>\n",
       "      <th>D_BP</th>\n",
       "      <th>FiO2</th>\n",
       "      <th>GCS</th>\n",
       "      <th>HR</th>\n",
       "      <th>RR</th>\n",
       "      <th>S_BP</th>\n",
       "      <th>SpO2</th>\n",
       "      <th>Temp</th>\n",
       "      <th>pH</th>\n",
       "    </tr>\n",
       "  </thead>\n",
       "  <tbody>\n",
       "    <tr>\n",
       "      <th>count</th>\n",
       "      <td>47564.000000</td>\n",
       "      <td>47564.000000</td>\n",
       "      <td>47564.000000</td>\n",
       "      <td>47564.000000</td>\n",
       "      <td>22715.000000</td>\n",
       "      <td>2.000000</td>\n",
       "      <td>42449.000000</td>\n",
       "      <td>47483.000000</td>\n",
       "      <td>47039.000000</td>\n",
       "      <td>22714.000000</td>\n",
       "      <td>46906.000000</td>\n",
       "      <td>38418.000000</td>\n",
       "      <td>16708.000000</td>\n",
       "    </tr>\n",
       "    <tr>\n",
       "      <th>mean</th>\n",
       "      <td>251147.460096</td>\n",
       "      <td>4.107750</td>\n",
       "      <td>2.010092</td>\n",
       "      <td>0.631311</td>\n",
       "      <td>0.303738</td>\n",
       "      <td>0.177375</td>\n",
       "      <td>0.813651</td>\n",
       "      <td>0.428016</td>\n",
       "      <td>0.194865</td>\n",
       "      <td>0.612353</td>\n",
       "      <td>0.968461</td>\n",
       "      <td>0.419187</td>\n",
       "      <td>0.531043</td>\n",
       "    </tr>\n",
       "    <tr>\n",
       "      <th>std</th>\n",
       "      <td>28740.815505</td>\n",
       "      <td>3.868578</td>\n",
       "      <td>1.931850</td>\n",
       "      <td>0.163976</td>\n",
       "      <td>0.059276</td>\n",
       "      <td>0.244129</td>\n",
       "      <td>0.275929</td>\n",
       "      <td>0.077861</td>\n",
       "      <td>0.046000</td>\n",
       "      <td>0.104317</td>\n",
       "      <td>0.031814</td>\n",
       "      <td>0.086285</td>\n",
       "      <td>0.138603</td>\n",
       "    </tr>\n",
       "    <tr>\n",
       "      <th>min</th>\n",
       "      <td>200006.000000</td>\n",
       "      <td>0.000000</td>\n",
       "      <td>0.000000</td>\n",
       "      <td>0.160200</td>\n",
       "      <td>0.020000</td>\n",
       "      <td>0.004750</td>\n",
       "      <td>0.000000</td>\n",
       "      <td>0.125000</td>\n",
       "      <td>0.040000</td>\n",
       "      <td>0.015000</td>\n",
       "      <td>0.110000</td>\n",
       "      <td>-4.025000</td>\n",
       "      <td>0.028571</td>\n",
       "    </tr>\n",
       "    <tr>\n",
       "      <th>25%</th>\n",
       "      <td>227064.000000</td>\n",
       "      <td>1.000000</td>\n",
       "      <td>1.000000</td>\n",
       "      <td>0.520600</td>\n",
       "      <td>0.264444</td>\n",
       "      <td>0.091062</td>\n",
       "      <td>0.645833</td>\n",
       "      <td>0.372247</td>\n",
       "      <td>0.162500</td>\n",
       "      <td>0.537917</td>\n",
       "      <td>0.957857</td>\n",
       "      <td>0.381667</td>\n",
       "      <td>0.525357</td>\n",
       "    </tr>\n",
       "    <tr>\n",
       "      <th>50%</th>\n",
       "      <td>251547.000000</td>\n",
       "      <td>3.000000</td>\n",
       "      <td>1.000000</td>\n",
       "      <td>0.653300</td>\n",
       "      <td>0.297083</td>\n",
       "      <td>0.177375</td>\n",
       "      <td>1.000000</td>\n",
       "      <td>0.422667</td>\n",
       "      <td>0.190000</td>\n",
       "      <td>0.600000</td>\n",
       "      <td>0.972222</td>\n",
       "      <td>0.418333</td>\n",
       "      <td>0.528571</td>\n",
       "    </tr>\n",
       "    <tr>\n",
       "      <th>75%</th>\n",
       "      <td>276480.000000</td>\n",
       "      <td>6.000000</td>\n",
       "      <td>3.000000</td>\n",
       "      <td>0.767000</td>\n",
       "      <td>0.337739</td>\n",
       "      <td>0.263687</td>\n",
       "      <td>1.000000</td>\n",
       "      <td>0.477778</td>\n",
       "      <td>0.221111</td>\n",
       "      <td>0.680479</td>\n",
       "      <td>0.985833</td>\n",
       "      <td>0.457500</td>\n",
       "      <td>0.531429</td>\n",
       "    </tr>\n",
       "    <tr>\n",
       "      <th>max</th>\n",
       "      <td>299999.000000</td>\n",
       "      <td>20.000000</td>\n",
       "      <td>10.000000</td>\n",
       "      <td>0.890000</td>\n",
       "      <td>2.131429</td>\n",
       "      <td>0.350000</td>\n",
       "      <td>1.000000</td>\n",
       "      <td>0.815156</td>\n",
       "      <td>0.670000</td>\n",
       "      <td>1.079091</td>\n",
       "      <td>1.000000</td>\n",
       "      <td>0.838333</td>\n",
       "      <td>8.106837</td>\n",
       "    </tr>\n",
       "  </tbody>\n",
       "</table>\n",
       "</div>"
      ],
      "text/plain": [
       "label     icustay_id  num_hours_binned  num_days_remaining  first_admit_age  \\\n",
       "count   47564.000000      47564.000000        47564.000000     47564.000000   \n",
       "mean   251147.460096          4.107750            2.010092         0.631311   \n",
       "std     28740.815505          3.868578            1.931850         0.163976   \n",
       "min    200006.000000          0.000000            0.000000         0.160200   \n",
       "25%    227064.000000          1.000000            1.000000         0.520600   \n",
       "50%    251547.000000          3.000000            1.000000         0.653300   \n",
       "75%    276480.000000          6.000000            3.000000         0.767000   \n",
       "max    299999.000000         20.000000           10.000000         0.890000   \n",
       "\n",
       "label          D_BP      FiO2           GCS            HR            RR  \\\n",
       "count  22715.000000  2.000000  42449.000000  47483.000000  47039.000000   \n",
       "mean       0.303738  0.177375      0.813651      0.428016      0.194865   \n",
       "std        0.059276  0.244129      0.275929      0.077861      0.046000   \n",
       "min        0.020000  0.004750      0.000000      0.125000      0.040000   \n",
       "25%        0.264444  0.091062      0.645833      0.372247      0.162500   \n",
       "50%        0.297083  0.177375      1.000000      0.422667      0.190000   \n",
       "75%        0.337739  0.263687      1.000000      0.477778      0.221111   \n",
       "max        2.131429  0.350000      1.000000      0.815156      0.670000   \n",
       "\n",
       "label          S_BP          SpO2          Temp            pH  \n",
       "count  22714.000000  46906.000000  38418.000000  16708.000000  \n",
       "mean       0.612353      0.968461      0.419187      0.531043  \n",
       "std        0.104317      0.031814      0.086285      0.138603  \n",
       "min        0.015000      0.110000     -4.025000      0.028571  \n",
       "25%        0.537917      0.957857      0.381667      0.525357  \n",
       "50%        0.600000      0.972222      0.418333      0.528571  \n",
       "75%        0.680479      0.985833      0.457500      0.531429  \n",
       "max        1.079091      1.000000      0.838333      8.106837  "
      ]
     },
     "execution_count": 82,
     "metadata": {},
     "output_type": "execute_result"
    }
   ],
   "source": [
    "df_pivot['first_admit_age'] = df_pivot['first_admit_age']/100 #normalize the age\n",
    "df_pivot.describe()\n"
   ]
  },
  {
   "cell_type": "code",
   "execution_count": 91,
   "metadata": {
    "collapsed": false
   },
   "outputs": [],
   "source": [
    "# NOT USED ANY MORE\n",
    "# target is the max num_hours\n",
    "#from sklearn.preprocessing import LabelEncoder\n",
    "#from tensorflow.contrib.keras.python.keras.utils.np_utils import to_categorical#\n",
    "\n",
    "##targets, categories = pd.cut(df_feats.groupby(['icustay_id'])['num_hours'].max().values, NUM_CATEGORIES, retbins=True)\n",
    "#labels = LabelEncoder().fit_transform(targets)\n",
    "#targets = to_categorical(labels, NUM_CATEGORIES)"
   ]
  },
  {
   "cell_type": "code",
   "execution_count": 83,
   "metadata": {
    "collapsed": false
   },
   "outputs": [],
   "source": [
    "data = []\n",
    "targets = []\n",
    "for icu_id in df_pivot.icustay_id.unique():\n",
    "    tmp = df_pivot[df_pivot.icustay_id == icu_id]\n",
    "    res = tmp[list(set(df_pivot.columns) - set(['icustay_id','num_hours_binned','num_days_remaining']))].values\n",
    "    target = tmp['num_days_remaining'].values\n",
    "    target = to_categorical(target, 12)\n",
    "    data.append(res)\n",
    "    targets.append(target)\n"
   ]
  },
  {
   "cell_type": "code",
   "execution_count": 84,
   "metadata": {
    "collapsed": false
   },
   "outputs": [],
   "source": [
    "data = np.asarray(data)\n",
    "targets = np.asarray(targets)"
   ]
  },
  {
   "cell_type": "code",
   "execution_count": 88,
   "metadata": {
    "collapsed": true
   },
   "outputs": [],
   "source": [
    "np.save('./data/all_data.npy', data)\n",
    "np.save('./data/targets.npy', targets)"
   ]
  },
  {
   "cell_type": "code",
   "execution_count": 113,
   "metadata": {
    "collapsed": false
   },
   "outputs": [
    {
     "data": {
      "text/plain": [
       "48"
      ]
     },
     "execution_count": 113,
     "metadata": {},
     "output_type": "execute_result"
    }
   ],
   "source": [
    "df_pivot.num_hours_binned.max()"
   ]
  },
  {
   "cell_type": "code",
   "execution_count": 23,
   "metadata": {
    "collapsed": false
   },
   "outputs": [
    {
     "data": {
      "text/plain": [
       "count    2.719086e+06\n",
       "mean     2.074210e+00\n",
       "std      1.927447e+00\n",
       "min     -4.583333e-01\n",
       "25%      6.250000e-01\n",
       "50%      1.500000e+00\n",
       "75%      2.958333e+00\n",
       "max      1.000000e+01\n",
       "Name: num_hours, dtype: float64"
      ]
     },
     "execution_count": 23,
     "metadata": {},
     "output_type": "execute_result"
    }
   ],
   "source": [
    "(df_feats.num_hours/24).describe()"
   ]
  },
  {
   "cell_type": "code",
   "execution_count": 43,
   "metadata": {
    "collapsed": false
   },
   "outputs": [
    {
     "data": {
      "text/plain": [
       "num_days_remaining\n",
       "0     328722\n",
       "1     799171\n",
       "2     542047\n",
       "3     361007\n",
       "4     243534\n",
       "5     169921\n",
       "6     118264\n",
       "7      77627\n",
       "8      46818\n",
       "9      25438\n",
       "10       710\n",
       "dtype: int64"
      ]
     },
     "execution_count": 43,
     "metadata": {},
     "output_type": "execute_result"
    }
   ],
   "source": [
    "df_feats.groupby(['num_days_remaining']).size()"
   ]
  },
  {
   "cell_type": "code",
   "execution_count": null,
   "metadata": {
    "collapsed": true
   },
   "outputs": [],
   "source": []
  }
 ],
 "metadata": {
  "anaconda-cloud": {},
  "kernelspec": {
   "display_name": "Python [conda env:tfkeras]",
   "language": "python",
   "name": "conda-env-tfkeras-py"
  },
  "language_info": {
   "codemirror_mode": {
    "name": "ipython",
    "version": 3
   },
   "file_extension": ".py",
   "mimetype": "text/x-python",
   "name": "python",
   "nbconvert_exporter": "python",
   "pygments_lexer": "ipython3",
   "version": "3.5.3"
  }
 },
 "nbformat": 4,
 "nbformat_minor": 1
}
