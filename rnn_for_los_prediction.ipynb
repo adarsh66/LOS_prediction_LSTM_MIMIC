{
 "cells": [
  {
   "cell_type": "markdown",
   "metadata": {},
   "source": [
    "# LOS prediction analysis"
   ]
  },
  {
   "cell_type": "code",
   "execution_count": 120,
   "metadata": {
    "collapsed": true
   },
   "outputs": [],
   "source": [
    "import numpy as np\n",
    "import pandas as pd\n",
    "import os\n",
    "import pickle\n",
    "import time"
   ]
  },
  {
   "cell_type": "code",
   "execution_count": 121,
   "metadata": {
    "collapsed": true
   },
   "outputs": [],
   "source": [
    "from tensorflow.contrib.keras.api.keras.preprocessing import sequence\n",
    "from tensorflow.contrib.keras.api.keras.layers import Input, Embedding, GRU, Dense, LSTM #, Activation\n",
    "from tensorflow.contrib.keras.api.keras.models import Model\n",
    "from tensorflow.contrib.keras.python.keras.layers import Bidirectional, TimeDistributed\n",
    "from sklearn.model_selection import train_test_split"
   ]
  },
  {
   "cell_type": "code",
   "execution_count": 122,
   "metadata": {
    "collapsed": false
   },
   "outputs": [],
   "source": [
    "# Import data\n",
    "data = np.load('./data/all_data.npy')\n",
    "target = np.load('./data/targets.npy')\n",
    "\n",
    "# pad the data to max length with zero arrays\n",
    "max_length = max([i.shape[0] for i in data])\n",
    "padded_data = []\n",
    "padded_target = []\n",
    "for i in range(len(data)):\n",
    "    item_arr = []\n",
    "    target_arr = []\n",
    "    arr_length = len(data[i])\n",
    "    for j in range(len(data[i])):\n",
    "        item_arr.append(data[i][j])\n",
    "        target_arr.append(target[i][j])\n",
    "    for i in range(max_length - arr_length):\n",
    "        #pad the arrays\n",
    "        item_arr.append(np.zeros(shape=(10,)))\n",
    "        target_arr.append(np.asarray([0]*11+[1]))\n",
    "    #conv to np arrays\n",
    "    item_arr = np.array(item_arr)\n",
    "    target_arr= np.array(target_arr)\n",
    "    #add to padded lists\n",
    "    padded_data.append(item_arr)\n",
    "    padded_target.append(target_arr)\n",
    "padded_data = np.array(padded_data)\n",
    "padded_target = np.array(padded_target)\n",
    "\n",
    "train_test_split_ratio = 0.1\n",
    "padded_data = np.nan_to_num(padded_data, 0)\n",
    "X_train, X_test, y_train, y_test = train_test_split(padded_data, padded_target, test_size = train_test_split_ratio)"
   ]
  },
  {
   "cell_type": "code",
   "execution_count": 123,
   "metadata": {
    "collapsed": false
   },
   "outputs": [],
   "source": [
    "# Configs\n",
    "TARGET_SIZE = 12 # Number of different buckets for LOS\n",
    "BATCH_SIZE = 20\n",
    "RNN_HIDDEN_SIZE = max_length # ?+1 for capitalisation flag"
   ]
  },
  {
   "cell_type": "markdown",
   "metadata": {},
   "source": [
    "## Build RNN model"
   ]
  },
  {
   "cell_type": "code",
   "execution_count": 124,
   "metadata": {
    "collapsed": false
   },
   "outputs": [],
   "source": [
    "input_layer = Input(shape = (max_length,10), name = 'input_embeddings')\n",
    "x = input_layer\n",
    "#x = Dense(50, name = 'input_widener')(input_layer)\n",
    "x = Bidirectional (LSTM(RNN_HIDDEN_SIZE, return_sequences=True, activation = 'relu',dropout=0.1), merge_mode='concat')(x)\n",
    "#x = Bidirectional (LSTM(RNN_HIDDEN_SIZE, return_sequences=False, activation = 'relu',dropout=0.1), merge_mode='concat')(x)\n",
    "output_layer = TimeDistributed(Dense(TARGET_SIZE, activation='softmax'\n",
    "                                     , name = 'output_dense'\n",
    "                                     ,input_shape=(BATCH_SIZE, max_length, RNN_HIDDEN_SIZE*2)\n",
    "                                    )\\\n",
    "                              )(x)\n",
    "model = Model(inputs = [input_layer], outputs= [output_layer])"
   ]
  },
  {
   "cell_type": "code",
   "execution_count": 125,
   "metadata": {
    "collapsed": false
   },
   "outputs": [
    {
     "name": "stdout",
     "output_type": "stream",
     "text": [
      "_________________________________________________________________\n",
      "Layer (type)                 Output Shape              Param #   \n",
      "=================================================================\n",
      "input_embeddings (InputLayer (None, 21, 10)            0         \n",
      "_________________________________________________________________\n",
      "bidirectional_20 (Bidirectio (None, None, 42)          5376      \n",
      "_________________________________________________________________\n",
      "time_distributed_7 (TimeDist (None, None, 12)          516       \n",
      "=================================================================\n",
      "Total params: 5,892\n",
      "Trainable params: 5,892\n",
      "Non-trainable params: 0\n",
      "_________________________________________________________________\n"
     ]
    }
   ],
   "source": [
    "model.summary()"
   ]
  },
  {
   "cell_type": "code",
   "execution_count": 126,
   "metadata": {
    "collapsed": false
   },
   "outputs": [
    {
     "name": "stdout",
     "output_type": "stream",
     "text": [
      "Train...\n",
      "Train on 6316 samples, validate on 702 samples\n",
      "Epoch 1/5\n",
      "6316/6316 [==============================] - 20s - loss: 0.7188 - acc: 0.8338 - val_loss: 0.1648 - val_acc: 0.9281\n",
      "Epoch 2/5\n",
      "6316/6316 [==============================] - 17s - loss: 0.1442 - acc: 0.9345 - val_loss: 0.1096 - val_acc: 0.9404\n",
      "Epoch 3/5\n",
      "6316/6316 [==============================] - 18s - loss: 0.1121 - acc: 0.9439 - val_loss: 0.0943 - val_acc: 0.9493\n",
      "Epoch 4/5\n",
      "6316/6316 [==============================] - 18s - loss: 0.0988 - acc: 0.9487 - val_loss: 0.0862 - val_acc: 0.9529\n",
      "Epoch 5/5\n",
      "6316/6316 [==============================] - 18s - loss: 0.0933 - acc: 0.9515 - val_loss: 0.0975 - val_acc: 0.9512\n",
      "700/702 [============================>.] - ETA: 0sTest score: 0.0975478933408\n",
      "Test accuracy: 0.951159944222\n"
     ]
    }
   ],
   "source": [
    "# try using different optimizers and different optimizer configs\n",
    "from keras import metrics\n",
    "import keras.backend as K\n",
    "\n",
    "model.compile(loss='categorical_crossentropy',\n",
    "              optimizer='adam',\n",
    "              metrics=['accuracy'])\n",
    "\n",
    "print('Train...')\n",
    "model.fit(X_train, y_train,\n",
    "          batch_size=BATCH_SIZE,\n",
    "          epochs=5,\n",
    "          validation_data=(X_test, y_test)\n",
    "         )\n",
    "score, acc = model.evaluate(X_test, y_test,\n",
    "                            batch_size=BATCH_SIZE)\n",
    "print('Test score:', score)\n",
    "print('Test accuracy:', acc)\n",
    "#print('Test Top 5 accuracy:', top_k_acc)"
   ]
  },
  {
   "cell_type": "code",
   "execution_count": 143,
   "metadata": {
    "collapsed": false
   },
   "outputs": [],
   "source": [
    "test_batch = np.array(X_test)\n",
    "preds = model.predict(test_batch)"
   ]
  },
  {
   "cell_type": "code",
   "execution_count": 150,
   "metadata": {
    "collapsed": false
   },
   "outputs": [],
   "source": [
    "y_true = []\n",
    "y_pred = []\n",
    "for i in range(len(y_test)):\n",
    "    for j in range(len(y_test[i])):\n",
    "        mypred = preds[i][j].argmax()\n",
    "        myact = y_test[i][j].argmax()\n",
    "        if myact != 11:\n",
    "            y_true.append(myact)\n",
    "            y_pred.append(mypred)\n",
    "            "
   ]
  },
  {
   "cell_type": "code",
   "execution_count": 151,
   "metadata": {
    "collapsed": true
   },
   "outputs": [],
   "source": [
    "from sklearn.metrics import classification_report, confusion_matrix"
   ]
  },
  {
   "cell_type": "code",
   "execution_count": 157,
   "metadata": {
    "collapsed": false
   },
   "outputs": [
    {
     "data": {
      "image/png": "[encoded data removed]",
      "text/plain": [
       "<matplotlib.figure.Figure at 0x14eabaeb8>"
      ]
     },
     "metadata": {},
     "output_type": "display_data"
    },
    {
     "data": {
      "text/plain": [
       "<matplotlib.figure.Figure at 0x145058c18>"
      ]
     },
     "metadata": {},
     "output_type": "display_data"
    }
   ],
   "source": [
    "import matplotlib.pyplot as plt\n",
    "import seaborn as sns\n",
    "%matplotlib inline\n",
    "cfn_mat = confusion_matrix(y_true, y_pred)\n",
    "sns.heatmap(cfn_mat, annot=True)\n",
    "plt.title('Confusion Matrix - Predicted vs. Actual Num of days remaining')\n",
    "plt.show()\n",
    "plt.savefig('./img/confusion_matrix.jpg')"
   ]
  },
  {
   "cell_type": "code",
   "execution_count": 160,
   "metadata": {
    "collapsed": false
   },
   "outputs": [
    {
     "name": "stdout",
     "output_type": "stream",
     "text": [
      "             precision    recall  f1-score   support\n",
      "\n",
      "          0       0.84      0.98      0.90      1020\n",
      "          1       0.95      0.78      0.86      1401\n",
      "          2       0.80      0.91      0.85       889\n",
      "          3       0.79      0.83      0.81       543\n",
      "          4       0.82      0.74      0.77       324\n",
      "          5       0.81      0.75      0.78       208\n",
      "          6       0.77      0.73      0.75       132\n",
      "          7       0.81      0.70      0.75        94\n",
      "          8       0.81      0.70      0.75        50\n",
      "          9       0.92      0.75      0.83        32\n",
      "         10       0.00      0.00      0.00         2\n",
      "         11       0.00      0.00      0.00         0\n",
      "\n",
      "avg / total       0.85      0.85      0.85      4695\n",
      "\n"
     ]
    },
    {
     "name": "stderr",
     "output_type": "stream",
     "text": [
      "/Users/adarsh/anaconda/envs/tfkeras/lib/python3.5/site-packages/sklearn/metrics/classification.py:1113: UndefinedMetricWarning: Precision and F-score are ill-defined and being set to 0.0 in labels with no predicted samples.\n",
      "  'precision', 'predicted', average, warn_for)\n",
      "/Users/adarsh/anaconda/envs/tfkeras/lib/python3.5/site-packages/sklearn/metrics/classification.py:1115: UndefinedMetricWarning: Recall and F-score are ill-defined and being set to 0.0 in labels with no true samples.\n",
      "  'recall', 'true', average, warn_for)\n"
     ]
    }
   ],
   "source": [
    "print (classification_report(y_true, y_pred))"
   ]
  },
  {
   "cell_type": "code",
   "execution_count": null,
   "metadata": {
    "collapsed": true
   },
   "outputs": [],
   "source": []
  }
 ],
 "metadata": {
  "anaconda-cloud": {},
  "kernelspec": {
   "display_name": "Python [conda env:tfkeras]",
   "language": "python",
   "name": "conda-env-tfkeras-py"
  },
  "language_info": {
   "codemirror_mode": {
    "name": "ipython",
    "version": 3
   },
   "file_extension": ".py",
   "mimetype": "text/x-python",
   "name": "python",
   "nbconvert_exporter": "python",
   "pygments_lexer": "ipython3",
   "version": "3.5.3"
  }
 },
 "nbformat": 4,
 "nbformat_minor": 1
}
